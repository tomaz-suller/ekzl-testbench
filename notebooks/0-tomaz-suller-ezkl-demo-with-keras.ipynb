{
 "cells": [
  {
   "cell_type": "code",
   "execution_count": 19,
   "metadata": {},
   "outputs": [],
   "source": [
    "# https://keras.io/getting_started/\n",
    "import os\n",
    "os.environ[\"KERAS_BACKEND\"] = \"torch\""
   ]
  },
  {
   "cell_type": "code",
   "execution_count": 20,
   "metadata": {},
   "outputs": [],
   "source": [
    "from dataclasses import dataclass, field\n",
    "from enum import Enum\n",
    "import json\n",
    "from pathlib import Path\n",
    "from typing import Literal, Optional, Union\n",
    "\n",
    "import ezkl\n",
    "import keras\n",
    "import torch\n",
    "import torch.nn as nn\n",
    "from torchinfo import summary"
   ]
  },
  {
   "cell_type": "code",
   "execution_count": 21,
   "metadata": {},
   "outputs": [
    {
     "data": {
      "text/plain": [
       "PosixPath('/home/suller/ezkl')"
      ]
     },
     "execution_count": 21,
     "metadata": {},
     "output_type": "execute_result"
    }
   ],
   "source": [
    "REPO_ROOT = Path().absolute().parent\n",
    "REPO_ROOT"
   ]
  },
  {
   "cell_type": "code",
   "execution_count": 22,
   "metadata": {},
   "outputs": [
    {
     "data": {
      "text/plain": [
       "PosixPath('/home/suller/ezkl/models')"
      ]
     },
     "execution_count": 22,
     "metadata": {},
     "output_type": "execute_result"
    }
   ],
   "source": [
    "MODELS_DIR = REPO_ROOT / \"models\"\n",
    "MODELS_DIR"
   ]
  },
  {
   "cell_type": "markdown",
   "metadata": {},
   "source": [
    "## Define Neural Network Models"
   ]
  },
  {
   "cell_type": "markdown",
   "metadata": {},
   "source": [
    "[Section 5.1](https://www.politesi.polimi.it/retrieve/ab2f9f29-9491-444a-aade-be38b88dc67d/2023_05_Cerioli_01.pdf#section.5.1)"
   ]
  },
  {
   "cell_type": "markdown",
   "metadata": {},
   "source": [
    "Some Keras descriptions are left in Markdown, since the Keras option for `padding='valid'` is not currently supported by `ezkl`. For updates see [this](https://github.com/zkonduit/ezkl/pull/820) pull request."
   ]
  },
  {
   "cell_type": "code",
   "execution_count": 23,
   "metadata": {},
   "outputs": [],
   "source": [
    "class ModelAttributes(Enum):\n",
    "    FNN = (\"fnn\", (50,))\n",
    "    SMALL_CNN = (\"small_cnn\", (1,10,10))\n",
    "    MNIST = (\"mnist\", (1,28,28))\n",
    "    LENET5 = (\"lenet5\", (1,32,32))\n",
    "    # VGG11 = (\"vgg11\", (224,224,3))\n",
    "\n",
    "    def __init__(self, name: str, shape: tuple[int, ...]) -> None:\n",
    "        self.model_name = name\n",
    "        self.input_shape = shape"
   ]
  },
  {
   "cell_type": "code",
   "execution_count": 24,
   "metadata": {},
   "outputs": [],
   "source": [
    "@dataclass\n",
    "class Model:\n",
    "    name: str\n",
    "    input_shape: tuple[int, ...]\n",
    "    model: Union[keras.Model, nn.Module] = None\n",
    "    root: Optional[Path] = None\n",
    "    onnx_path: Path = field(init=False)\n",
    "    calibration_data_path: Path = field(init=False)\n",
    "    inference_data_path: Path = field(init=False)\n",
    "    output_dir: Path = field(init=False)\n",
    "\n",
    "    def __post_init__(self):\n",
    "        if self.root is None:\n",
    "            self.root = REPO_ROOT\n",
    "        data_dir = self.root / \"data\"\n",
    "        self.onnx_path = self.root / \"models\" / f\"{self.name}.onnx\"\n",
    "        self.calibration_data_path = data_dir / \"2-calibration\" / f\"{self.name}.json\"\n",
    "        self.inference_data_path = data_dir / \"3-inference\" / f\"{self.name}.json\"\n",
    "        self.output_dir = self.root / \"output\" / self.name"
   ]
  },
  {
   "cell_type": "code",
   "execution_count": 25,
   "metadata": {},
   "outputs": [
    {
     "data": {
      "text/plain": [
       "{'fnn': Model(name='fnn', input_shape=(50,), model=None, root=PosixPath('/home/suller/ezkl'), onnx_path=PosixPath('/home/suller/ezkl/models/fnn.onnx'), calibration_data_path=PosixPath('/home/suller/ezkl/data/2-calibration/fnn.json'), inference_data_path=PosixPath('/home/suller/ezkl/data/3-inference/fnn.json'), output_dir=PosixPath('/home/suller/ezkl/output/fnn')),\n",
       " 'small_cnn': Model(name='small_cnn', input_shape=(1, 10, 10), model=None, root=PosixPath('/home/suller/ezkl'), onnx_path=PosixPath('/home/suller/ezkl/models/small_cnn.onnx'), calibration_data_path=PosixPath('/home/suller/ezkl/data/2-calibration/small_cnn.json'), inference_data_path=PosixPath('/home/suller/ezkl/data/3-inference/small_cnn.json'), output_dir=PosixPath('/home/suller/ezkl/output/small_cnn')),\n",
       " 'mnist': Model(name='mnist', input_shape=(1, 28, 28), model=None, root=PosixPath('/home/suller/ezkl'), onnx_path=PosixPath('/home/suller/ezkl/models/mnist.onnx'), calibration_data_path=PosixPath('/home/suller/ezkl/data/2-calibration/mnist.json'), inference_data_path=PosixPath('/home/suller/ezkl/data/3-inference/mnist.json'), output_dir=PosixPath('/home/suller/ezkl/output/mnist')),\n",
       " 'lenet5': Model(name='lenet5', input_shape=(1, 32, 32), model=None, root=PosixPath('/home/suller/ezkl'), onnx_path=PosixPath('/home/suller/ezkl/models/lenet5.onnx'), calibration_data_path=PosixPath('/home/suller/ezkl/data/2-calibration/lenet5.json'), inference_data_path=PosixPath('/home/suller/ezkl/data/3-inference/lenet5.json'), output_dir=PosixPath('/home/suller/ezkl/output/lenet5'))}"
      ]
     },
     "execution_count": 25,
     "metadata": {},
     "output_type": "execute_result"
    }
   ],
   "source": [
    "models = {\n",
    "    attributes.model_name: Model(attributes.model_name, attributes.input_shape)\n",
    "    for attributes in ModelAttributes\n",
    "}\n",
    "models"
   ]
  },
  {
   "cell_type": "markdown",
   "metadata": {},
   "source": [
    "### Fully Connected Neural Network"
   ]
  },
  {
   "cell_type": "code",
   "execution_count": 26,
   "metadata": {},
   "outputs": [
    {
     "data": {
      "text/html": [
       "<pre style=\"white-space:pre;overflow-x:auto;line-height:normal;font-family:Menlo,'DejaVu Sans Mono',consolas,'Courier New',monospace\"><span style=\"font-weight: bold\">Model: \"sequential_1\"</span>\n",
       "</pre>\n"
      ],
      "text/plain": [
       "\u001b[1mModel: \"sequential_1\"\u001b[0m\n"
      ]
     },
     "metadata": {},
     "output_type": "display_data"
    },
    {
     "data": {
      "text/html": [
       "<pre style=\"white-space:pre;overflow-x:auto;line-height:normal;font-family:Menlo,'DejaVu Sans Mono',consolas,'Courier New',monospace\">┏━━━━━━━━━━━━━━━━━━━━━━━━━━━━━━━━━┳━━━━━━━━━━━━━━━━━━━━━━━━┳━━━━━━━━━━━━━━━┓\n",
       "┃<span style=\"font-weight: bold\"> Layer (type)                    </span>┃<span style=\"font-weight: bold\"> Output Shape           </span>┃<span style=\"font-weight: bold\">       Param # </span>┃\n",
       "┡━━━━━━━━━━━━━━━━━━━━━━━━━━━━━━━━━╇━━━━━━━━━━━━━━━━━━━━━━━━╇━━━━━━━━━━━━━━━┩\n",
       "│ dense_2 (<span style=\"color: #0087ff; text-decoration-color: #0087ff\">Dense</span>)                 │ (<span style=\"color: #00d7ff; text-decoration-color: #00d7ff\">None</span>, <span style=\"color: #00af00; text-decoration-color: #00af00\">25</span>)             │         <span style=\"color: #00af00; text-decoration-color: #00af00\">1,275</span> │\n",
       "├─────────────────────────────────┼────────────────────────┼───────────────┤\n",
       "│ dense_3 (<span style=\"color: #0087ff; text-decoration-color: #0087ff\">Dense</span>)                 │ (<span style=\"color: #00d7ff; text-decoration-color: #00d7ff\">None</span>, <span style=\"color: #00af00; text-decoration-color: #00af00\">2</span>)              │            <span style=\"color: #00af00; text-decoration-color: #00af00\">52</span> │\n",
       "└─────────────────────────────────┴────────────────────────┴───────────────┘\n",
       "</pre>\n"
      ],
      "text/plain": [
       "┏━━━━━━━━━━━━━━━━━━━━━━━━━━━━━━━━━┳━━━━━━━━━━━━━━━━━━━━━━━━┳━━━━━━━━━━━━━━━┓\n",
       "┃\u001b[1m \u001b[0m\u001b[1mLayer (type)                   \u001b[0m\u001b[1m \u001b[0m┃\u001b[1m \u001b[0m\u001b[1mOutput Shape          \u001b[0m\u001b[1m \u001b[0m┃\u001b[1m \u001b[0m\u001b[1m      Param #\u001b[0m\u001b[1m \u001b[0m┃\n",
       "┡━━━━━━━━━━━━━━━━━━━━━━━━━━━━━━━━━╇━━━━━━━━━━━━━━━━━━━━━━━━╇━━━━━━━━━━━━━━━┩\n",
       "│ dense_2 (\u001b[38;5;33mDense\u001b[0m)                 │ (\u001b[38;5;45mNone\u001b[0m, \u001b[38;5;34m25\u001b[0m)             │         \u001b[38;5;34m1,275\u001b[0m │\n",
       "├─────────────────────────────────┼────────────────────────┼───────────────┤\n",
       "│ dense_3 (\u001b[38;5;33mDense\u001b[0m)                 │ (\u001b[38;5;45mNone\u001b[0m, \u001b[38;5;34m2\u001b[0m)              │            \u001b[38;5;34m52\u001b[0m │\n",
       "└─────────────────────────────────┴────────────────────────┴───────────────┘\n"
      ]
     },
     "metadata": {},
     "output_type": "display_data"
    },
    {
     "data": {
      "text/html": [
       "<pre style=\"white-space:pre;overflow-x:auto;line-height:normal;font-family:Menlo,'DejaVu Sans Mono',consolas,'Courier New',monospace\"><span style=\"font-weight: bold\"> Total params: </span><span style=\"color: #00af00; text-decoration-color: #00af00\">1,327</span> (5.18 KB)\n",
       "</pre>\n"
      ],
      "text/plain": [
       "\u001b[1m Total params: \u001b[0m\u001b[38;5;34m1,327\u001b[0m (5.18 KB)\n"
      ]
     },
     "metadata": {},
     "output_type": "display_data"
    },
    {
     "data": {
      "text/html": [
       "<pre style=\"white-space:pre;overflow-x:auto;line-height:normal;font-family:Menlo,'DejaVu Sans Mono',consolas,'Courier New',monospace\"><span style=\"font-weight: bold\"> Trainable params: </span><span style=\"color: #00af00; text-decoration-color: #00af00\">1,327</span> (5.18 KB)\n",
       "</pre>\n"
      ],
      "text/plain": [
       "\u001b[1m Trainable params: \u001b[0m\u001b[38;5;34m1,327\u001b[0m (5.18 KB)\n"
      ]
     },
     "metadata": {},
     "output_type": "display_data"
    },
    {
     "data": {
      "text/html": [
       "<pre style=\"white-space:pre;overflow-x:auto;line-height:normal;font-family:Menlo,'DejaVu Sans Mono',consolas,'Courier New',monospace\"><span style=\"font-weight: bold\"> Non-trainable params: </span><span style=\"color: #00af00; text-decoration-color: #00af00\">0</span> (0.00 B)\n",
       "</pre>\n"
      ],
      "text/plain": [
       "\u001b[1m Non-trainable params: \u001b[0m\u001b[38;5;34m0\u001b[0m (0.00 B)\n"
      ]
     },
     "metadata": {},
     "output_type": "display_data"
    }
   ],
   "source": [
    "fnn = keras.Sequential((\n",
    "    keras.layers.Input(shape=models[\"fnn\"].input_shape),\n",
    "    keras.layers.Dense(25),\n",
    "    keras.layers.Dense(2),\n",
    "))\n",
    "fnn.compile()\n",
    "fnn.summary()\n",
    "\n",
    "models[\"fnn\"].model = fnn"
   ]
  },
  {
   "cell_type": "markdown",
   "metadata": {},
   "source": [
    "### Small Convolution"
   ]
  },
  {
   "cell_type": "markdown",
   "metadata": {},
   "source": [
    "Using Keras:\n",
    "\n",
    "```python\n",
    "small_cnn = keras.Sequential((\n",
    "    keras.layers.Input(shape=models[\"small_cnn\"].input_shape),\n",
    "    keras.layers.Conv2D(\n",
    "        filters=6,\n",
    "        kernel_size=3,\n",
    "        data_format=\"channels_first\",\n",
    "        padding=\"same\"\n",
    "    ),\n",
    "))\n",
    "small_cnn.compile()\n",
    "small_cnn.summary()\n",
    "\n",
    "models[\"small_cnn\"].model = small_cnn\n",
    "```"
   ]
  },
  {
   "cell_type": "code",
   "execution_count": 27,
   "metadata": {},
   "outputs": [
    {
     "name": "stdout",
     "output_type": "stream",
     "text": [
      "==========================================================================================\n",
      "Layer (type:depth-idx)                   Output Shape              Param #\n",
      "==========================================================================================\n",
      "SmallCnn                                 [1, 6, 8, 8]              --\n",
      "├─Conv2d: 1-1                            [1, 6, 8, 8]              60\n",
      "==========================================================================================\n",
      "Total params: 60\n",
      "Trainable params: 60\n",
      "Non-trainable params: 0\n",
      "Total mult-adds (M): 0.00\n",
      "==========================================================================================\n",
      "Input size (MB): 0.00\n",
      "Forward/backward pass size (MB): 0.00\n",
      "Params size (MB): 0.00\n",
      "Estimated Total Size (MB): 0.00\n",
      "==========================================================================================\n"
     ]
    }
   ],
   "source": [
    "class SmallCnn(nn.Module):\n",
    "    def __init__(self):\n",
    "        super().__init__()\n",
    "        self.conv = nn.Conv2d(\n",
    "            in_channels=models[\"small_cnn\"].input_shape[0],\n",
    "            out_channels=6,\n",
    "            kernel_size=3,\n",
    "        )\n",
    "\n",
    "    def forward(self, x):\n",
    "        x = self.conv(x)\n",
    "        return x\n",
    "\n",
    "\n",
    "small_cnn = SmallCnn()\n",
    "print(summary(small_cnn, input_size=(1, 1, 10, 10)))\n",
    "\n",
    "models[\"small_cnn\"].model = small_cnn"
   ]
  },
  {
   "cell_type": "markdown",
   "metadata": {},
   "source": [
    "### Convolutional Neural Network"
   ]
  },
  {
   "cell_type": "code",
   "execution_count": 28,
   "metadata": {},
   "outputs": [],
   "source": [
    "def polynomial_activation(x, a: float):\n",
    "    \"\"\"https://arxiv.org/abs/2011.05530\"\"\"\n",
    "    return x*x + a*x"
   ]
  },
  {
   "cell_type": "markdown",
   "metadata": {},
   "source": [
    "#### MNIST Conv-Net"
   ]
  },
  {
   "cell_type": "markdown",
   "metadata": {},
   "source": [
    "```python\n",
    "mnist = keras.Sequential((\n",
    "    keras.layers.Input(shape=models[\"mnist\"].input_shape),\n",
    "    keras.layers.Conv2D(filters=4, kernel_size=3),\n",
    "    # Activation multiplies values by 4 so Average Pooling becomes\n",
    "    # equivalent to Sum Pooling employed in the thesis\n",
    "    keras.layers.Activation(lambda x: 4*(x*x + (10**6)*x)),\n",
    "    keras.layers.AvgPool2D(pool_size=2, strides=2),\n",
    "    keras.layers.Conv2D(filters=8, kernel_size=3),\n",
    "    # Activation multiplies values by 4 so Average Pooling becomes\n",
    "    # equivalent to Sum Pooling employed in the thesis\n",
    "    keras.layers.Activation(lambda x: 4*(x*x + (10**15)*x)),\n",
    "    keras.layers.AvgPool2D(pool_size=2, strides=2),\n",
    "    keras.layers.Flatten(),\n",
    "    keras.layers.Dense(10),\n",
    "))\n",
    "mnist.compile()\n",
    "mnist.summary()\n",
    "\n",
    "models[\"mnist\"].model = mnist\n",
    "```"
   ]
  },
  {
   "cell_type": "code",
   "execution_count": 37,
   "metadata": {},
   "outputs": [
    {
     "name": "stdout",
     "output_type": "stream",
     "text": [
      "==========================================================================================\n",
      "Layer (type:depth-idx)                   Output Shape              Param #\n",
      "==========================================================================================\n",
      "Mnist                                    [1, 10]                   --\n",
      "├─Conv2d: 1-1                            [1, 4, 26, 26]            40\n",
      "├─AvgPool2d: 1-2                         [1, 4, 13, 13]            --\n",
      "├─Conv2d: 1-3                            [1, 8, 11, 11]            296\n",
      "├─AvgPool2d: 1-4                         [1, 8, 5, 5]              --\n",
      "├─Linear: 1-5                            [1, 10]                   2,010\n",
      "==========================================================================================\n",
      "Total params: 2,346\n",
      "Trainable params: 2,346\n",
      "Non-trainable params: 0\n",
      "Total mult-adds (M): 0.06\n",
      "==========================================================================================\n",
      "Input size (MB): 0.00\n",
      "Forward/backward pass size (MB): 0.03\n",
      "Params size (MB): 0.01\n",
      "Estimated Total Size (MB): 0.04\n",
      "==========================================================================================\n"
     ]
    }
   ],
   "source": [
    "class Mnist(nn.Module):\n",
    "    def __init__(self):\n",
    "        super().__init__()\n",
    "        self.conv1 = nn.Conv2d(\n",
    "            in_channels=models[\"mnist\"].input_shape[0],\n",
    "            out_channels=4,\n",
    "            kernel_size=3,\n",
    "        )\n",
    "        self.conv2 = nn.Conv2d(in_channels=4, out_channels=8, kernel_size=3)\n",
    "        self.pool = nn.AvgPool2d(kernel_size=2, stride=2)\n",
    "        self.dense = nn.Linear(200, 10)\n",
    "\n",
    "    def forward(self, x: torch.Tensor) -> torch.Tensor:\n",
    "        x = self.conv1(x)\n",
    "        # x = polynomial_activation(x, 10**6)\n",
    "        x = nn.functional.relu(x)\n",
    "        # SumPool: AvgPool multiplied by number of elements (4)\n",
    "        x = self.pool(x)\n",
    "        x = 4 * x\n",
    "\n",
    "        x = self.conv2(x)\n",
    "        # x = polynomial_activation(x, 10**15)\n",
    "        x = nn.functional.relu(x)\n",
    "        # SumPool: AvgPool multiplied by number of elements (4)\n",
    "        x = self.pool(x)\n",
    "        x = 4 * x\n",
    "\n",
    "        x = x.flatten(start_dim=1)\n",
    "        x = self.dense(x)\n",
    "\n",
    "        return x\n",
    "\n",
    "\n",
    "mnist = Mnist()\n",
    "print(summary(mnist, input_size=(1, 1, 28, 28)))\n",
    "\n",
    "models[\"mnist\"].model = mnist"
   ]
  },
  {
   "cell_type": "markdown",
   "metadata": {},
   "source": [
    "#### LeNet5"
   ]
  },
  {
   "cell_type": "markdown",
   "metadata": {},
   "source": [
    "```python\n",
    "lenet5 = keras.Sequential((\n",
    "    keras.layers.Input(shape=models[\"lenet5\"].input_shape),\n",
    "    keras.layers.Conv2D(filters=6, kernel_size=5),\n",
    "    keras.layers.Activation(lambda x: x*x + (10**6)*x),\n",
    "    keras.layers.AvgPool2D(pool_size=2, strides=2),\n",
    "    keras.layers.Conv2D(filters=16, kernel_size=5),\n",
    "    keras.layers.Activation(lambda x: x*x + (10**15)*x),\n",
    "    keras.layers.AvgPool2D(pool_size=2, strides=2),\n",
    "    keras.layers.Flatten(),\n",
    "    keras.layers.Dense(120),\n",
    "    keras.layers.Dense(84),\n",
    "    keras.layers.Dense(10),\n",
    "))\n",
    "lenet5.compile()\n",
    "lenet5.summary()\n",
    "\n",
    "models[\"lenet5\"].model = lenet5\n",
    "```"
   ]
  },
  {
   "cell_type": "code",
   "execution_count": 30,
   "metadata": {},
   "outputs": [
    {
     "name": "stdout",
     "output_type": "stream",
     "text": [
      "==========================================================================================\n",
      "Layer (type:depth-idx)                   Output Shape              Param #\n",
      "==========================================================================================\n",
      "Lenet5                                   [1, 10]                   --\n",
      "├─Conv2d: 1-1                            [1, 6, 28, 28]            156\n",
      "├─AvgPool2d: 1-2                         [1, 6, 14, 14]            --\n",
      "├─Conv2d: 1-3                            [1, 16, 10, 10]           2,416\n",
      "├─AvgPool2d: 1-4                         [1, 16, 5, 5]             --\n",
      "├─Sequential: 1-5                        [1, 10]                   --\n",
      "│    └─Linear: 2-1                       [1, 120]                  48,120\n",
      "│    └─Linear: 2-2                       [1, 84]                   10,164\n",
      "│    └─Linear: 2-3                       [1, 10]                   850\n",
      "==========================================================================================\n",
      "Total params: 61,706\n",
      "Trainable params: 61,706\n",
      "Non-trainable params: 0\n",
      "Total mult-adds (M): 0.42\n",
      "==========================================================================================\n",
      "Input size (MB): 0.00\n",
      "Forward/backward pass size (MB): 0.05\n",
      "Params size (MB): 0.25\n",
      "Estimated Total Size (MB): 0.30\n",
      "==========================================================================================\n"
     ]
    }
   ],
   "source": [
    "class Lenet5(nn.Module):\n",
    "    def __init__(self):\n",
    "        super().__init__()\n",
    "        self.conv1 = nn.Conv2d(\n",
    "            in_channels=models[\"lenet5\"].input_shape[0],\n",
    "            out_channels=6,\n",
    "            kernel_size=5,\n",
    "        )\n",
    "        self.conv2 = nn.Conv2d(in_channels=6, out_channels=16, kernel_size=5)\n",
    "        self.pool = nn.AvgPool2d(kernel_size=2, stride=2)\n",
    "        self.classifier = nn.Sequential(\n",
    "            nn.Linear(400, 120),\n",
    "            nn.Linear(120, 84),\n",
    "            nn.Linear(84, 10),\n",
    "        )\n",
    "\n",
    "    def forward(self, x: torch.Tensor) -> torch.Tensor:\n",
    "        # Feature extraction\n",
    "        x = self.conv1(x)\n",
    "        x = polynomial_activation(x, 10**6)\n",
    "        x = self.pool(x)\n",
    "\n",
    "        x = self.conv2(x)\n",
    "        x = polynomial_activation(x, 10**15)\n",
    "        x = self.pool(x)\n",
    "\n",
    "        x = x.flatten(start_dim=1)\n",
    "\n",
    "        x = self.classifier(x)\n",
    "\n",
    "        return x\n",
    "\n",
    "lenet5 = Lenet5()\n",
    "print(summary(lenet5, (1, 1, 32, 32)))\n",
    "\n",
    "models[\"lenet5\"].model = lenet5"
   ]
  },
  {
   "cell_type": "markdown",
   "metadata": {},
   "source": [
    "#### VGG-11"
   ]
  },
  {
   "cell_type": "code",
   "execution_count": 31,
   "metadata": {},
   "outputs": [],
   "source": [
    "# TODO"
   ]
  },
  {
   "cell_type": "markdown",
   "metadata": {},
   "source": [
    "## Export models to ONNX"
   ]
  },
  {
   "cell_type": "code",
   "execution_count": 32,
   "metadata": {},
   "outputs": [],
   "source": [
    "def export(model: Model, path: Optional[Path] = None):\n",
    "    input_ = torch.rand(1, *model.input_shape)\n",
    "    torch.onnx.export(\n",
    "        model.model,  # Actual keras.Model object\n",
    "        input_,\n",
    "        str(path or model.onnx_path),\n",
    "        export_params=True,\n",
    "        opset_version=10,\n",
    "        do_constant_folding=True,\n",
    "        input_names=[\"input\"],\n",
    "        output_names=[\"output\"],\n",
    "        dynamic_axes={\n",
    "            \"input\": {0: \"batch_size\"},\n",
    "            \"output\": {0: \"batch_size\"},\n",
    "        }\n",
    "    )"
   ]
  },
  {
   "cell_type": "code",
   "execution_count": 33,
   "metadata": {},
   "outputs": [
    {
     "name": "stderr",
     "output_type": "stream",
     "text": [
      "/home/suller/ezkl/venv/lib/python3.9/site-packages/keras/src/backend/common/variables.py:541: TracerWarning: Converting a tensor to a Python integer might cause the trace to be incorrect. We can't record the data flow of Python values, so this value will be treated as a constant in the future. This means that the trace might not generalize to other inputs!\n",
      "  shape = tuple(map(lambda x: int(x) if x is not None else None, shape))\n"
     ]
    }
   ],
   "source": [
    "for model in models.values():\n",
    "    export(model)"
   ]
  },
  {
   "cell_type": "markdown",
   "metadata": {},
   "source": [
    "## Generate proofs using `ezkl`"
   ]
  },
  {
   "cell_type": "code",
   "execution_count": 34,
   "metadata": {},
   "outputs": [],
   "source": [
    "def torch_tensor_to_list(tensor: torch.Tensor) -> list[float]:\n",
    "    return (tensor.detach().numpy()).reshape([-1]).tolist()"
   ]
  },
  {
   "cell_type": "code",
   "execution_count": 35,
   "metadata": {},
   "outputs": [],
   "source": [
    "def random_input_data(samples: int, *shape: int, scale: int = 1) -> dict[Literal[\"input_data\"], list[list[float]]]:\n",
    "    data_list = torch_tensor_to_list(\n",
    "        torch.randn(samples, *shape, requires_grad=True) * scale\n",
    "    )\n",
    "    return {\"input_data\": [data_list]}"
   ]
  },
  {
   "cell_type": "code",
   "execution_count": 38,
   "metadata": {},
   "outputs": [
    {
     "name": "stdout",
     "output_type": "stream",
     "text": [
      "####################\n",
      "small_cnn\n",
      "####################\n"
     ]
    },
    {
     "name": "stderr",
     "output_type": "stream",
     "text": [
      "Using 2 columns for non-linearity table.\n",
      "Using 3 columns for non-linearity table.\n",
      "Using 3 columns for non-linearity table.\n",
      "Using 3 columns for non-linearity table.\n",
      "Using 5 columns for non-linearity table.\n",
      "Using 5 columns for non-linearity table.\n",
      "Using 3 columns for non-linearity table.\n",
      "Using 5 columns for non-linearity table.\n",
      "Using 5 columns for non-linearity table.\n",
      "Using 5 columns for non-linearity table.\n",
      "Using 10 columns for non-linearity table.\n",
      "\n",
      "\n",
      " <------------- Numerical Fidelity Report (input_scale: 13, param_scale: 13, scale_input_multiplier: 10) ------------->\n",
      "\n",
      "+-----------------+----------------+---------------+----------------+----------------+------------------+---------------+-------------------+--------------------+--------------------+------------------------+\n",
      "| mean_error      | median_error   | max_error     | min_error      | mean_abs_error | median_abs_error | max_abs_error | min_abs_error     | mean_squared_error | mean_percent_error | mean_abs_percent_error |\n",
      "+-----------------+----------------+---------------+----------------+----------------+------------------+---------------+-------------------+--------------------+--------------------+------------------------+\n",
      "| 0.0000003737226 | -0.00030231476 | 0.00042575598 | -0.00040887296 | 0.000084149535 | 0.00030231476    | 0.00042575598 | 0.000000059604645 | 0.000000011292641  | 0.0027149285       | 0.0041474015           |\n",
      "+-----------------+----------------+---------------+----------------+----------------+------------------+---------------+-------------------+--------------------+--------------------+------------------------+\n",
      "\n",
      "\n"
     ]
    }
   ],
   "source": [
    "for model in models.values():\n",
    "\n",
    "    # FIXME Remove when executing code for real\n",
    "    if model.name != ModelAttributes.SMALL_CNN.model_name:\n",
    "        continue\n",
    "\n",
    "    print(\"#\"*20)\n",
    "    print(model.name)\n",
    "    print(\"#\"*20)\n",
    "\n",
    "    py_run_args = ezkl.PyRunArgs()\n",
    "    py_run_args.input_visibility = \"private\"\n",
    "    py_run_args.output_visibility = \"public\"\n",
    "    py_run_args.param_visibility = \"fixed\"  # private by default\n",
    "\n",
    "    ezkl.gen_settings(\n",
    "        model.onnx_path, model.output_dir / \"settings.json\", py_run_args=py_run_args\n",
    "    )\n",
    "\n",
    "    if not (path := model.calibration_data_path).exists():\n",
    "        with path.open(\"w\") as f:\n",
    "            json.dump(random_input_data(20, *model.input_shape), f)\n",
    "    await ezkl.calibrate_settings(\n",
    "        model.calibration_data_path,\n",
    "        model.onnx_path,\n",
    "        model.output_dir / \"settings.json\",\n",
    "        \"resources\",\n",
    "    )\n",
    "\n",
    "    ezkl.compile_circuit(\n",
    "        model.onnx_path,\n",
    "        model.output_dir / \"compiled\",\n",
    "        model.output_dir / \"settings.json\",\n",
    "    )\n",
    "\n",
    "    await ezkl.get_srs(model.output_dir / \"settings.json\")\n",
    "\n",
    "\n",
    "    if not (path := model.inference_data_path).exists():\n",
    "        with path.open(\"w\") as f:\n",
    "            json.dump(random_input_data(1, *model.input_shape), f)\n",
    "    await ezkl.gen_witness(\n",
    "        model.inference_data_path,\n",
    "        model.output_dir / \"compiled\",\n",
    "        model.output_dir / \"witness.json\",\n",
    "    )\n",
    "    ezkl.setup(\n",
    "        model.output_dir / \"compiled\",\n",
    "        model.output_dir / \"vk\",\n",
    "        model.output_dir / \"pk\",\n",
    "    )\n",
    "\n",
    "    ezkl.prove(\n",
    "        model.output_dir / \"witness.json\",\n",
    "        model.output_dir / \"compiled\",\n",
    "        model.output_dir / \"pk\",\n",
    "        model.output_dir / \"proof\",\n",
    "        \"single\",\n",
    "    )"
   ]
  },
  {
   "cell_type": "markdown",
   "metadata": {},
   "source": [
    "----\n",
    "\n",
    "## Generate proof for a single test model"
   ]
  },
  {
   "cell_type": "code",
   "execution_count": 31,
   "metadata": {},
   "outputs": [],
   "source": [
    "data_path = 'input.json'\n",
    "\n",
    "model_path = \"test.onnx\"\n",
    "settings_path = \"settings.json\"\n",
    "\n",
    "compiled_model_path = 'test.compiled'\n",
    "\n",
    "pk_path = 'test.pk'\n",
    "vk_path = 'test.vk'\n",
    "\n",
    "witness_path = 'witness.json'\n"
   ]
  },
  {
   "cell_type": "code",
   "execution_count": 32,
   "metadata": {},
   "outputs": [
    {
     "data": {
      "text/plain": [
       "Model(name='small_cnn', input_shape=(1, 10, 10), model=SmallCnn(\n",
       "  (conv): Conv2d(1, 6, kernel_size=(3, 3), stride=(1, 1))\n",
       "), root=PosixPath('/home/suller/ezkl'), onnx_path=PosixPath('/home/suller/ezkl/models/small_cnn.onnx'), calibration_data_path=PosixPath('/home/suller/ezkl/data/2-calibration/small_cnn.json'), inference_data_path=PosixPath('/home/suller/ezkl/data/3-inference/small_cnn.json'), output_dir=PosixPath('/home/suller/ezkl/output/small_cnn'))"
      ]
     },
     "execution_count": 32,
     "metadata": {},
     "output_type": "execute_result"
    }
   ],
   "source": [
    "test_model = models[\"small_cnn\"]\n",
    "test_model"
   ]
  },
  {
   "cell_type": "code",
   "execution_count": 33,
   "metadata": {},
   "outputs": [],
   "source": [
    "export(test_model, path=Path(model_path))"
   ]
  },
  {
   "cell_type": "code",
   "execution_count": 35,
   "metadata": {},
   "outputs": [],
   "source": [
    "data_array = torch_tensor_to_list(torch.randn(1, *test_model.input_shape))\n",
    "data = dict(input_data = [data_array])\n",
    "with open(data_path, \"w\") as f:\n",
    "    json.dump(data, f)"
   ]
  },
  {
   "cell_type": "code",
   "execution_count": 37,
   "metadata": {},
   "outputs": [],
   "source": [
    "py_run_args = ezkl.PyRunArgs()\n",
    "py_run_args.input_visibility = \"private\"\n",
    "py_run_args.output_visibility = \"public\"\n",
    "py_run_args.param_visibility = \"fixed\" # private by default\n",
    "\n",
    "res = ezkl.gen_settings(model_path, settings_path, py_run_args=py_run_args)"
   ]
  },
  {
   "cell_type": "code",
   "execution_count": 38,
   "metadata": {},
   "outputs": [
    {
     "name": "stderr",
     "output_type": "stream",
     "text": [
      "Using 2 columns for non-linearity table.\n",
      "Using 3 columns for non-linearity table.\n",
      "Using 3 columns for non-linearity table.\n",
      "Using 2 columns for non-linearity table.\n",
      "Using 3 columns for non-linearity table.\n",
      "Using 3 columns for non-linearity table.\n",
      "Using 3 columns for non-linearity table.\n",
      "Using 5 columns for non-linearity table.\n",
      "Using 5 columns for non-linearity table.\n",
      "Using 5 columns for non-linearity table.\n",
      "Using 9 columns for non-linearity table.\n",
      "\n",
      "\n",
      " <------------- Numerical Fidelity Report (input_scale: 13, param_scale: 13, scale_input_multiplier: 10) ------------->\n",
      "\n",
      "+-----------------+-----------------+---------------+----------------+----------------+------------------+---------------+-------------------+--------------------+--------------------+------------------------+\n",
      "| mean_error      | median_error    | max_error     | min_error      | mean_abs_error | median_abs_error | max_abs_error | min_abs_error     | mean_squared_error | mean_percent_error | mean_abs_percent_error |\n",
      "+-----------------+-----------------+---------------+----------------+----------------+------------------+---------------+-------------------+--------------------+--------------------+------------------------+\n",
      "| -0.000009048604 | -0.000050216913 | 0.00021097064 | -0.00021624565 | 0.00005633613  | 0.000050216913   | 0.00021624565 | 0.000000014901161 | 0.0000000047718753 | -0.001464401       | 0.002496703            |\n",
      "+-----------------+-----------------+---------------+----------------+----------------+------------------+---------------+-------------------+--------------------+--------------------+------------------------+\n",
      "\n",
      "\n"
     ]
    },
    {
     "data": {
      "text/plain": [
       "True"
      ]
     },
     "execution_count": 38,
     "metadata": {},
     "output_type": "execute_result"
    }
   ],
   "source": [
    "cal_path = os.path.join(\"calibration.json\")\n",
    "\n",
    "data_array = (torch.rand(20, *test_model.input_shape, requires_grad=True).detach().numpy()).reshape([-1]).tolist()\n",
    "\n",
    "data = dict(input_data = [data_array])\n",
    "\n",
    "# Serialize data into file:\n",
    "json.dump(data, open(cal_path, 'w'))\n",
    "\n",
    "\n",
    "await ezkl.calibrate_settings(cal_path, model_path, settings_path, \"resources\")"
   ]
  },
  {
   "cell_type": "code",
   "execution_count": 39,
   "metadata": {},
   "outputs": [
    {
     "data": {
      "text/plain": [
       "True"
      ]
     },
     "execution_count": 39,
     "metadata": {},
     "output_type": "execute_result"
    }
   ],
   "source": [
    "res = ezkl.compile_circuit(model_path, compiled_model_path, settings_path)\n",
    "res"
   ]
  },
  {
   "cell_type": "code",
   "execution_count": 40,
   "metadata": {},
   "outputs": [
    {
     "data": {
      "text/plain": [
       "True"
      ]
     },
     "execution_count": 40,
     "metadata": {},
     "output_type": "execute_result"
    }
   ],
   "source": [
    "# srs path\n",
    "res = await ezkl.get_srs(settings_path)\n",
    "res"
   ]
  },
  {
   "cell_type": "code",
   "execution_count": 41,
   "metadata": {},
   "outputs": [],
   "source": [
    "# now generate the witness file\n",
    "\n",
    "res = await ezkl.gen_witness(data_path, compiled_model_path, witness_path)\n",
    "assert os.path.isfile(witness_path)"
   ]
  },
  {
   "cell_type": "code",
   "execution_count": 42,
   "metadata": {},
   "outputs": [],
   "source": [
    "# HERE WE SETUP THE CIRCUIT PARAMS\n",
    "# WE GOT KEYS\n",
    "# WE GOT CIRCUIT PARAMETERS\n",
    "# EVERYTHING ANYONE HAS EVER NEEDED FOR ZK\n",
    "\n",
    "\n",
    "res = ezkl.setup(\n",
    "    compiled_model_path,\n",
    "    vk_path,\n",
    "    pk_path,\n",
    ")\n",
    "\n",
    "assert res == True\n",
    "assert os.path.isfile(vk_path)\n",
    "assert os.path.isfile(pk_path)\n",
    "assert os.path.isfile(settings_path)"
   ]
  },
  {
   "cell_type": "code",
   "execution_count": 43,
   "metadata": {},
   "outputs": [
    {
     "name": "stdout",
     "output_type": "stream",
     "text": [
      "{'instances': [['e55c840000000000000000000000000000000000000000000000000000000000', '118a15eb93f5e1439170b97948e833285d588181b64550b829a031e1724e6430', '1349fe0000000000000000000000000000000000000000000000000000000000', 'acd9160000000000000000000000000000000000000000000000000000000000', 'f57bccee93f5e1439170b97948e833285d588181b64550b829a031e1724e6430', 'ed1bfb0200000000000000000000000000000000000000000000000000000000', '546582ee93f5e1439170b97948e833285d588181b64550b829a031e1724e6430', 'c0dc50ef93f5e1439170b97948e833285d588181b64550b829a031e1724e6430', '2898350200000000000000000000000000000000000000000000000000000000', '25df930100000000000000000000000000000000000000000000000000000000', '950d8b0300000000000000000000000000000000000000000000000000000000', 'cef52d0200000000000000000000000000000000000000000000000000000000', '6d9fddef93f5e1439170b97948e833285d588181b64550b829a031e1724e6430', '6bc1c40000000000000000000000000000000000000000000000000000000000', '356add0200000000000000000000000000000000000000000000000000000000', 'cab0b4ed93f5e1439170b97948e833285d588181b64550b829a031e1724e6430', 'fd23a20300000000000000000000000000000000000000000000000000000000', '400feb0500000000000000000000000000000000000000000000000000000000', '4d21e00000000000000000000000000000000000000000000000000000000000', '659ff50200000000000000000000000000000000000000000000000000000000', 'a6d073ef93f5e1439170b97948e833285d588181b64550b829a031e1724e6430', 'af71100200000000000000000000000000000000000000000000000000000000', '5b6414ef93f5e1439170b97948e833285d588181b64550b829a031e1724e6430', '5efcbbed93f5e1439170b97948e833285d588181b64550b829a031e1724e6430', 'd9d64fef93f5e1439170b97948e833285d588181b64550b829a031e1724e6430', 'c48f160400000000000000000000000000000000000000000000000000000000', '49d2580400000000000000000000000000000000000000000000000000000000', '6c425bee93f5e1439170b97948e833285d588181b64550b829a031e1724e6430', '3302d30000000000000000000000000000000000000000000000000000000000', '7c6d800100000000000000000000000000000000000000000000000000000000', '9b0b8eef93f5e1439170b97948e833285d588181b64550b829a031e1724e6430', '5b5c200400000000000000000000000000000000000000000000000000000000', 'e7b84f0300000000000000000000000000000000000000000000000000000000', 'a444390100000000000000000000000000000000000000000000000000000000', '03a6dfee93f5e1439170b97948e833285d588181b64550b829a031e1724e6430', 'c63665ef93f5e1439170b97948e833285d588181b64550b829a031e1724e6430', '658c42ee93f5e1439170b97948e833285d588181b64550b829a031e1724e6430', 'fecb45ee93f5e1439170b97948e833285d588181b64550b829a031e1724e6430', '7c5d240100000000000000000000000000000000000000000000000000000000', '61b763ea93f5e1439170b97948e833285d588181b64550b829a031e1724e6430', '9d28a2ed93f5e1439170b97948e833285d588181b64550b829a031e1724e6430', '936cedee93f5e1439170b97948e833285d588181b64550b829a031e1724e6430', '50f3d00100000000000000000000000000000000000000000000000000000000', 'b9f68d0100000000000000000000000000000000000000000000000000000000', '14d9e60000000000000000000000000000000000000000000000000000000000', '5d0f070000000000000000000000000000000000000000000000000000000000', '93cb09ec93f5e1439170b97948e833285d588181b64550b829a031e1724e6430', '99e0a70200000000000000000000000000000000000000000000000000000000', '14ee160100000000000000000000000000000000000000000000000000000000', 'ae31d30300000000000000000000000000000000000000000000000000000000', 'b28fbf0200000000000000000000000000000000000000000000000000000000', '710f3b0100000000000000000000000000000000000000000000000000000000', '1ff841ef93f5e1439170b97948e833285d588181b64550b829a031e1724e6430', '30661e0200000000000000000000000000000000000000000000000000000000', '43173b0500000000000000000000000000000000000000000000000000000000', '7671f70100000000000000000000000000000000000000000000000000000000', '4f6c89ed93f5e1439170b97948e833285d588181b64550b829a031e1724e6430', 'c1586ded93f5e1439170b97948e833285d588181b64550b829a031e1724e6430', '822bae0100000000000000000000000000000000000000000000000000000000', '9cbc33ee93f5e1439170b97948e833285d588181b64550b829a031e1724e6430', '2f04ec0000000000000000000000000000000000000000000000000000000000', 'd68d4a0000000000000000000000000000000000000000000000000000000000', '9c6627ef93f5e1439170b97948e833285d588181b64550b829a031e1724e6430', '82cf64ec93f5e1439170b97948e833285d588181b64550b829a031e1724e6430', '0edc1c0000000000000000000000000000000000000000000000000000000000', '6bc32b0400000000000000000000000000000000000000000000000000000000', '7dcdc50400000000000000000000000000000000000000000000000000000000', 'aba10d0000000000000000000000000000000000000000000000000000000000', '25e0000300000000000000000000000000000000000000000000000000000000', 'bc16e70100000000000000000000000000000000000000000000000000000000', '796accef93f5e1439170b97948e833285d588181b64550b829a031e1724e6430', 'cec7b00300000000000000000000000000000000000000000000000000000000', '1c6b82ef93f5e1439170b97948e833285d588181b64550b829a031e1724e6430', '6f1dc5ee93f5e1439170b97948e833285d588181b64550b829a031e1724e6430', '992f5d0100000000000000000000000000000000000000000000000000000000', '3beb5bef93f5e1439170b97948e833285d588181b64550b829a031e1724e6430', '8d19770000000000000000000000000000000000000000000000000000000000', '6eb44d0100000000000000000000000000000000000000000000000000000000', '3f845aef93f5e1439170b97948e833285d588181b64550b829a031e1724e6430', 'db15e90200000000000000000000000000000000000000000000000000000000', 'dc880f0100000000000000000000000000000000000000000000000000000000', 'f01baded93f5e1439170b97948e833285d588181b64550b829a031e1724e6430', '59598aec93f5e1439170b97948e833285d588181b64550b829a031e1724e6430', '628336ef93f5e1439170b97948e833285d588181b64550b829a031e1724e6430', 'fd938b0200000000000000000000000000000000000000000000000000000000', '74b12aef93f5e1439170b97948e833285d588181b64550b829a031e1724e6430', 'acaa2fef93f5e1439170b97948e833285d588181b64550b829a031e1724e6430', 'ea6afb0100000000000000000000000000000000000000000000000000000000', '0a9a3b0300000000000000000000000000000000000000000000000000000000', '3da7910100000000000000000000000000000000000000000000000000000000', '169313ed93f5e1439170b97948e833285d588181b64550b829a031e1724e6430', 'fcfe30ef93f5e1439170b97948e833285d588181b64550b829a031e1724e6430', 'f8007a0200000000000000000000000000000000000000000000000000000000', '477e890100000000000000000000000000000000000000000000000000000000', '1ec9a00000000000000000000000000000000000000000000000000000000000', '4e238f0200000000000000000000000000000000000000000000000000000000', 'f3c7b00200000000000000000000000000000000000000000000000000000000', 'b24b410100000000000000000000000000000000000000000000000000000000', '0b5fef0000000000000000000000000000000000000000000000000000000000', '1b62d90100000000000000000000000000000000000000000000000000000000', '6b59700100000000000000000000000000000000000000000000000000000000', '4873460000000000000000000000000000000000000000000000000000000000', 'd3653b0100000000000000000000000000000000000000000000000000000000', '0ba37b0200000000000000000000000000000000000000000000000000000000', '72bc6f0100000000000000000000000000000000000000000000000000000000', 'a8ef100100000000000000000000000000000000000000000000000000000000', 'aefdcf0000000000000000000000000000000000000000000000000000000000', '0b91ea0100000000000000000000000000000000000000000000000000000000', '16bfff0200000000000000000000000000000000000000000000000000000000', 'afb7500000000000000000000000000000000000000000000000000000000000', 'e857120300000000000000000000000000000000000000000000000000000000', '8cb3d30100000000000000000000000000000000000000000000000000000000', 'fee7d50300000000000000000000000000000000000000000000000000000000', '776ab50100000000000000000000000000000000000000000000000000000000', 'd5d0a2ed93f5e1439170b97948e833285d588181b64550b829a031e1724e6430', 'b15634ee93f5e1439170b97948e833285d588181b64550b829a031e1724e6430', '69599eef93f5e1439170b97948e833285d588181b64550b829a031e1724e6430', '935b060100000000000000000000000000000000000000000000000000000000', 'c49dfdee93f5e1439170b97948e833285d588181b64550b829a031e1724e6430', '65a16bee93f5e1439170b97948e833285d588181b64550b829a031e1724e6430', 'cd4b2b0300000000000000000000000000000000000000000000000000000000', '3b08e80200000000000000000000000000000000000000000000000000000000', '72b2910100000000000000000000000000000000000000000000000000000000', 'c97c9c0100000000000000000000000000000000000000000000000000000000', 'a33fbc0100000000000000000000000000000000000000000000000000000000', '3410c4ef93f5e1439170b97948e833285d588181b64550b829a031e1724e6430', 'c792b40000000000000000000000000000000000000000000000000000000000', 'b1af480000000000000000000000000000000000000000000000000000000000', '5e58080400000000000000000000000000000000000000000000000000000000', 'aefe4a0000000000000000000000000000000000000000000000000000000000', 'c2abb4ec93f5e1439170b97948e833285d588181b64550b829a031e1724e6430', '5be4590100000000000000000000000000000000000000000000000000000000', '5d420fef93f5e1439170b97948e833285d588181b64550b829a031e1724e6430', '66f8bb0000000000000000000000000000000000000000000000000000000000', '19c9fe0000000000000000000000000000000000000000000000000000000000', 'd6cb760100000000000000000000000000000000000000000000000000000000', 'af60660100000000000000000000000000000000000000000000000000000000', 'aa8f05ee93f5e1439170b97948e833285d588181b64550b829a031e1724e6430', '3435570100000000000000000000000000000000000000000000000000000000', '3ed6920000000000000000000000000000000000000000000000000000000000', 'e870820100000000000000000000000000000000000000000000000000000000', 'b25a26ee93f5e1439170b97948e833285d588181b64550b829a031e1724e6430', '65f0a60400000000000000000000000000000000000000000000000000000000', 'c149d7ee93f5e1439170b97948e833285d588181b64550b829a031e1724e6430', 'e38bf7ed93f5e1439170b97948e833285d588181b64550b829a031e1724e6430', '6d97160100000000000000000000000000000000000000000000000000000000', 'eea0310200000000000000000000000000000000000000000000000000000000', '8c0fc70400000000000000000000000000000000000000000000000000000000', '083221ee93f5e1439170b97948e833285d588181b64550b829a031e1724e6430', '389aeb0100000000000000000000000000000000000000000000000000000000', '07dfea0300000000000000000000000000000000000000000000000000000000', 'c0bfa0ef93f5e1439170b97948e833285d588181b64550b829a031e1724e6430', 'a5b9afed93f5e1439170b97948e833285d588181b64550b829a031e1724e6430', '86db65ee93f5e1439170b97948e833285d588181b64550b829a031e1724e6430', '5a0e480500000000000000000000000000000000000000000000000000000000', '8d08370200000000000000000000000000000000000000000000000000000000', 'ba5c53ee93f5e1439170b97948e833285d588181b64550b829a031e1724e6430', '8912840300000000000000000000000000000000000000000000000000000000', '530764ee93f5e1439170b97948e833285d588181b64550b829a031e1724e6430', '80023fee93f5e1439170b97948e833285d588181b64550b829a031e1724e6430', '291856ef93f5e1439170b97948e833285d588181b64550b829a031e1724e6430', 'ca5aec0300000000000000000000000000000000000000000000000000000000', 'dda3490300000000000000000000000000000000000000000000000000000000', '36a3c6ef93f5e1439170b97948e833285d588181b64550b829a031e1724e6430', '3492630100000000000000000000000000000000000000000000000000000000', 'da84530000000000000000000000000000000000000000000000000000000000', '75fa100400000000000000000000000000000000000000000000000000000000', '66d987ef93f5e1439170b97948e833285d588181b64550b829a031e1724e6430', '0c77050100000000000000000000000000000000000000000000000000000000', '3b33990000000000000000000000000000000000000000000000000000000000', '27b67a0000000000000000000000000000000000000000000000000000000000', '5c7c490000000000000000000000000000000000000000000000000000000000', '75996aef93f5e1439170b97948e833285d588181b64550b829a031e1724e6430', 'f62a320400000000000000000000000000000000000000000000000000000000', 'cc9cfdec93f5e1439170b97948e833285d588181b64550b829a031e1724e6430', '22d33def93f5e1439170b97948e833285d588181b64550b829a031e1724e6430', '639149ed93f5e1439170b97948e833285d588181b64550b829a031e1724e6430', 'ddd0600000000000000000000000000000000000000000000000000000000000', '63cbd20000000000000000000000000000000000000000000000000000000000', '5912030300000000000000000000000000000000000000000000000000000000', '216ebc0000000000000000000000000000000000000000000000000000000000', 'd7acdcee93f5e1439170b97948e833285d588181b64550b829a031e1724e6430', '2db168ee93f5e1439170b97948e833285d588181b64550b829a031e1724e6430', '91fbbd0600000000000000000000000000000000000000000000000000000000', 'bfc6410100000000000000000000000000000000000000000000000000000000', 'ea3a98ee93f5e1439170b97948e833285d588181b64550b829a031e1724e6430', '31eb260300000000000000000000000000000000000000000000000000000000', 'dcdbbbef93f5e1439170b97948e833285d588181b64550b829a031e1724e6430', '2b247f0000000000000000000000000000000000000000000000000000000000', '42884e0000000000000000000000000000000000000000000000000000000000', '01bf080500000000000000000000000000000000000000000000000000000000', '454c8cec93f5e1439170b97948e833285d588181b64550b829a031e1724e6430', '292eceec93f5e1439170b97948e833285d588181b64550b829a031e1724e6430', 'a6da6aee93f5e1439170b97948e833285d588181b64550b829a031e1724e6430', 'a426b90200000000000000000000000000000000000000000000000000000000', '632101ed93f5e1439170b97948e833285d588181b64550b829a031e1724e6430', '9001d00000000000000000000000000000000000000000000000000000000000', '848ef4ef93f5e1439170b97948e833285d588181b64550b829a031e1724e6430', '049291ef93f5e1439170b97948e833285d588181b64550b829a031e1724e6430', '7796430100000000000000000000000000000000000000000000000000000000', '46b98b0500000000000000000000000000000000000000000000000000000000', '982363ed93f5e1439170b97948e833285d588181b64550b829a031e1724e6430', '6b50cbef93f5e1439170b97948e833285d588181b64550b829a031e1724e6430', '4aaae70000000000000000000000000000000000000000000000000000000000', '242f8b0000000000000000000000000000000000000000000000000000000000', '9094470200000000000000000000000000000000000000000000000000000000', 'b59df7ec93f5e1439170b97948e833285d588181b64550b829a031e1724e6430', 'd1226eed93f5e1439170b97948e833285d588181b64550b829a031e1724e6430', 'fa8dd90300000000000000000000000000000000000000000000000000000000', '286e2a0200000000000000000000000000000000000000000000000000000000', '3e963a0100000000000000000000000000000000000000000000000000000000', '188f4dee93f5e1439170b97948e833285d588181b64550b829a031e1724e6430', 'd4a29e0100000000000000000000000000000000000000000000000000000000', '579b140100000000000000000000000000000000000000000000000000000000', '5ac02f0200000000000000000000000000000000000000000000000000000000', 'c6deac0000000000000000000000000000000000000000000000000000000000', '09d7ff0100000000000000000000000000000000000000000000000000000000', 'dbe6990300000000000000000000000000000000000000000000000000000000', '0b33c5ef93f5e1439170b97948e833285d588181b64550b829a031e1724e6430', '85b8130300000000000000000000000000000000000000000000000000000000', '252851ec93f5e1439170b97948e833285d588181b64550b829a031e1724e6430', '6be5cc0200000000000000000000000000000000000000000000000000000000', '6600570000000000000000000000000000000000000000000000000000000000', '0213eeee93f5e1439170b97948e833285d588181b64550b829a031e1724e6430', 'f86667ec93f5e1439170b97948e833285d588181b64550b829a031e1724e6430', '14d3c8ee93f5e1439170b97948e833285d588181b64550b829a031e1724e6430', 'c6878c0100000000000000000000000000000000000000000000000000000000', '8ae6f0ef93f5e1439170b97948e833285d588181b64550b829a031e1724e6430', '32541a0100000000000000000000000000000000000000000000000000000000', '16a42c0200000000000000000000000000000000000000000000000000000000', '9a096dec93f5e1439170b97948e833285d588181b64550b829a031e1724e6430', '94291a0100000000000000000000000000000000000000000000000000000000', 'b44e710300000000000000000000000000000000000000000000000000000000', '9894160400000000000000000000000000000000000000000000000000000000', '071e5eef93f5e1439170b97948e833285d588181b64550b829a031e1724e6430', '5e1342ec93f5e1439170b97948e833285d588181b64550b829a031e1724e6430', '5aa261ee93f5e1439170b97948e833285d588181b64550b829a031e1724e6430', '8845400000000000000000000000000000000000000000000000000000000000', 'cfb3ae0200000000000000000000000000000000000000000000000000000000', '349f5fed93f5e1439170b97948e833285d588181b64550b829a031e1724e6430', '9f89e4ef93f5e1439170b97948e833285d588181b64550b829a031e1724e6430', '7c8f0f0200000000000000000000000000000000000000000000000000000000', '2a86c10200000000000000000000000000000000000000000000000000000000', '10840b0100000000000000000000000000000000000000000000000000000000', 'd1b5fb0100000000000000000000000000000000000000000000000000000000', '50b97a0400000000000000000000000000000000000000000000000000000000', 'b1834deb93f5e1439170b97948e833285d588181b64550b829a031e1724e6430', '32de360100000000000000000000000000000000000000000000000000000000', '96cf520100000000000000000000000000000000000000000000000000000000', '2be1e20000000000000000000000000000000000000000000000000000000000', '4f5ca1ef93f5e1439170b97948e833285d588181b64550b829a031e1724e6430', 'a317240000000000000000000000000000000000000000000000000000000000', 'fb89a90100000000000000000000000000000000000000000000000000000000', 'e7a9aaef93f5e1439170b97948e833285d588181b64550b829a031e1724e6430', '0b21aa0200000000000000000000000000000000000000000000000000000000', '4ce20a0600000000000000000000000000000000000000000000000000000000', '8c0235ef93f5e1439170b97948e833285d588181b64550b829a031e1724e6430', 'd66fa90300000000000000000000000000000000000000000000000000000000', '01816c0200000000000000000000000000000000000000000000000000000000', '8ba0240100000000000000000000000000000000000000000000000000000000', 'de7ab60300000000000000000000000000000000000000000000000000000000', '3069cd0000000000000000000000000000000000000000000000000000000000', '656c5b0100000000000000000000000000000000000000000000000000000000', '4492f60100000000000000000000000000000000000000000000000000000000', 'c721780000000000000000000000000000000000000000000000000000000000', '56d8c1ef93f5e1439170b97948e833285d588181b64550b829a031e1724e6430', 'b8f1a20300000000000000000000000000000000000000000000000000000000', 'b64ddf0000000000000000000000000000000000000000000000000000000000', 'cca6420200000000000000000000000000000000000000000000000000000000', '6f7f7b0000000000000000000000000000000000000000000000000000000000', '4a6f5cef93f5e1439170b97948e833285d588181b64550b829a031e1724e6430', '70fc500200000000000000000000000000000000000000000000000000000000', 'e3854aef93f5e1439170b97948e833285d588181b64550b829a031e1724e6430', 'f02241ee93f5e1439170b97948e833285d588181b64550b829a031e1724e6430', '52ab92ef93f5e1439170b97948e833285d588181b64550b829a031e1724e6430', 'ca0f9b0000000000000000000000000000000000000000000000000000000000', '0e7a160200000000000000000000000000000000000000000000000000000000', '0509990000000000000000000000000000000000000000000000000000000000', 'f34d4d0100000000000000000000000000000000000000000000000000000000', '4af8ee0100000000000000000000000000000000000000000000000000000000', '4bb5e3ef93f5e1439170b97948e833285d588181b64550b829a031e1724e6430', '7122ffec93f5e1439170b97948e833285d588181b64550b829a031e1724e6430', '3f259aeb93f5e1439170b97948e833285d588181b64550b829a031e1724e6430', 'e9d2c6ef93f5e1439170b97948e833285d588181b64550b829a031e1724e6430', '1037210000000000000000000000000000000000000000000000000000000000', '41761b0100000000000000000000000000000000000000000000000000000000', '3d11baee93f5e1439170b97948e833285d588181b64550b829a031e1724e6430', '5e72ce0100000000000000000000000000000000000000000000000000000000', 'b100b4ee93f5e1439170b97948e833285d588181b64550b829a031e1724e6430', '9859f8ee93f5e1439170b97948e833285d588181b64550b829a031e1724e6430', 'a42fd4ee93f5e1439170b97948e833285d588181b64550b829a031e1724e6430', '321c070100000000000000000000000000000000000000000000000000000000', '6ff9910300000000000000000000000000000000000000000000000000000000', 'c926b20100000000000000000000000000000000000000000000000000000000', '1b98780200000000000000000000000000000000000000000000000000000000', 'c738060500000000000000000000000000000000000000000000000000000000', '89bb100200000000000000000000000000000000000000000000000000000000', 'eb0348ee93f5e1439170b97948e833285d588181b64550b829a031e1724e6430', 'b75fcaec93f5e1439170b97948e833285d588181b64550b829a031e1724e6430', '61230b0000000000000000000000000000000000000000000000000000000000', '4b16350200000000000000000000000000000000000000000000000000000000', '9159000200000000000000000000000000000000000000000000000000000000', 'ef3ac70200000000000000000000000000000000000000000000000000000000', '2c3e010100000000000000000000000000000000000000000000000000000000', '4b27920000000000000000000000000000000000000000000000000000000000', '56a25def93f5e1439170b97948e833285d588181b64550b829a031e1724e6430', 'be2dd1ee93f5e1439170b97948e833285d588181b64550b829a031e1724e6430', '435ab60100000000000000000000000000000000000000000000000000000000', '6047460200000000000000000000000000000000000000000000000000000000', '07a2d20000000000000000000000000000000000000000000000000000000000', '8c8f5eef93f5e1439170b97948e833285d588181b64550b829a031e1724e6430', '2a997a0400000000000000000000000000000000000000000000000000000000', '0d6e220500000000000000000000000000000000000000000000000000000000', '9c4d0f0100000000000000000000000000000000000000000000000000000000', 'e1bdfbef93f5e1439170b97948e833285d588181b64550b829a031e1724e6430', 'ca16350100000000000000000000000000000000000000000000000000000000', '05b8880200000000000000000000000000000000000000000000000000000000', '569f9b0100000000000000000000000000000000000000000000000000000000', '7124790300000000000000000000000000000000000000000000000000000000', '461b0f0000000000000000000000000000000000000000000000000000000000', 'db55d0ec93f5e1439170b97948e833285d588181b64550b829a031e1724e6430', '4fb5120100000000000000000000000000000000000000000000000000000000', '6775f7eb93f5e1439170b97948e833285d588181b64550b829a031e1724e6430', '291972ee93f5e1439170b97948e833285d588181b64550b829a031e1724e6430', '0936230000000000000000000000000000000000000000000000000000000000', 'bfcc3bed93f5e1439170b97948e833285d588181b64550b829a031e1724e6430', 'e4942bef93f5e1439170b97948e833285d588181b64550b829a031e1724e6430', '02622a0200000000000000000000000000000000000000000000000000000000', 'ed7826ec93f5e1439170b97948e833285d588181b64550b829a031e1724e6430', '7dc3f90000000000000000000000000000000000000000000000000000000000', '3a9700ef93f5e1439170b97948e833285d588181b64550b829a031e1724e6430', '2da3baec93f5e1439170b97948e833285d588181b64550b829a031e1724e6430', 'a439ffef93f5e1439170b97948e833285d588181b64550b829a031e1724e6430', '0539d00000000000000000000000000000000000000000000000000000000000', '1405a0ee93f5e1439170b97948e833285d588181b64550b829a031e1724e6430', 'e700640200000000000000000000000000000000000000000000000000000000', '44e2070100000000000000000000000000000000000000000000000000000000', '0d561eee93f5e1439170b97948e833285d588181b64550b829a031e1724e6430', 'b480350100000000000000000000000000000000000000000000000000000000', '1692d4ed93f5e1439170b97948e833285d588181b64550b829a031e1724e6430', 'fcd9660000000000000000000000000000000000000000000000000000000000', 'bea11bec93f5e1439170b97948e833285d588181b64550b829a031e1724e6430', '4f834eed93f5e1439170b97948e833285d588181b64550b829a031e1724e6430', '5491cbef93f5e1439170b97948e833285d588181b64550b829a031e1724e6430', '9a1d410300000000000000000000000000000000000000000000000000000000', '3c92230300000000000000000000000000000000000000000000000000000000', '8895c1ef93f5e1439170b97948e833285d588181b64550b829a031e1724e6430', '1bf1beef93f5e1439170b97948e833285d588181b64550b829a031e1724e6430', '05ad740300000000000000000000000000000000000000000000000000000000', '3f9666ed93f5e1439170b97948e833285d588181b64550b829a031e1724e6430', '785c610000000000000000000000000000000000000000000000000000000000', '4f79280000000000000000000000000000000000000000000000000000000000', '9fcbc90400000000000000000000000000000000000000000000000000000000', '8800690100000000000000000000000000000000000000000000000000000000', 'c137e9ed93f5e1439170b97948e833285d588181b64550b829a031e1724e6430', '6944ebec93f5e1439170b97948e833285d588181b64550b829a031e1724e6430', 'ec42aeec93f5e1439170b97948e833285d588181b64550b829a031e1724e6430', '4ddc0bed93f5e1439170b97948e833285d588181b64550b829a031e1724e6430', '5938dfeb93f5e1439170b97948e833285d588181b64550b829a031e1724e6430', '539b9aed93f5e1439170b97948e833285d588181b64550b829a031e1724e6430', '0b787aef93f5e1439170b97948e833285d588181b64550b829a031e1724e6430', 'a9b5d60100000000000000000000000000000000000000000000000000000000', '670b610200000000000000000000000000000000000000000000000000000000', '7de18d0100000000000000000000000000000000000000000000000000000000', '83b9f0ef93f5e1439170b97948e833285d588181b64550b829a031e1724e6430', '6aeb57ea93f5e1439170b97948e833285d588181b64550b829a031e1724e6430', 'ffc1d50000000000000000000000000000000000000000000000000000000000', 'b087e3ee93f5e1439170b97948e833285d588181b64550b829a031e1724e6430', 'e611180100000000000000000000000000000000000000000000000000000000', '2582abef93f5e1439170b97948e833285d588181b64550b829a031e1724e6430', '6caf58ec93f5e1439170b97948e833285d588181b64550b829a031e1724e6430', '5a429ced93f5e1439170b97948e833285d588181b64550b829a031e1724e6430', 'e4d0faed93f5e1439170b97948e833285d588181b64550b829a031e1724e6430', 'dc7f1aef93f5e1439170b97948e833285d588181b64550b829a031e1724e6430', '25ac0c0000000000000000000000000000000000000000000000000000000000', '78afaae993f5e1439170b97948e833285d588181b64550b829a031e1724e6430', 'a1da4aec93f5e1439170b97948e833285d588181b64550b829a031e1724e6430', '30b65b0100000000000000000000000000000000000000000000000000000000', 'be2e4fed93f5e1439170b97948e833285d588181b64550b829a031e1724e6430', '57b6d1ee93f5e1439170b97948e833285d588181b64550b829a031e1724e6430', '653225ec93f5e1439170b97948e833285d588181b64550b829a031e1724e6430', 'a8d849ed93f5e1439170b97948e833285d588181b64550b829a031e1724e6430', '9bc9d5eb93f5e1439170b97948e833285d588181b64550b829a031e1724e6430', 'd48264ef93f5e1439170b97948e833285d588181b64550b829a031e1724e6430']], 'proof': '0x0d45aae5de297da337b59c6925ff33b8c705ce4926de50b1ab84c8a44c37286d089b3532621bd567e78ab0cd40e1c0be374b3aa61fa5c1d22a159f09df65dcac2b2d6797db1af0ad7ea7e9d8039c8542467fbf9368decd2a2e9ac1005614772d3060b688324572cf943da3fb13b8f2f9f5cbd442cb3cb7eae3e5f25856aac83902db6b19d0c37520b1dbff08bdd1a24404a71b788ce9845bbb49d7616d510da9292f01a71f0005b5aaa7aadd7326d1d43ebfc25728d186b55a36cf412b4c7048243fcc221ab6f111d13459f3beb9b259d613f7d6e6fd4269f23a46ad212cbbde1cd4f17a2182becd7d5e2c4d152aaa3665ba0591ef1d7117446a04dc5bc41923135f2e3234c087b6eb75fce024dc538c6b2a6be8398277539887354b6ae8d43c10d012b0d8ee88cd570ca3b4e72617f32c5cdf6f8e74560927e55236956632bc088285d9a74e78cfc06c237366a12d25369a52306728c2f98962b166d809ec2d2c6c2317376a933d7c98fa202400b9c38e1d74e0399baec5083a06f8f71c9641098b800b470ed2c84e6e1efbe9f72e806fc62939a6be955291d5f359377edfbd18e29515cc181813811bc30c9559abd308bf88b6a5528ee295a8bed39ae71b5a07d094bca8035f5076ec125a2e419da85fac52cf99c64f42aac49d80583fcafd0beb46688377950e5b83d8312cbec3d6dac478985c95bfdccd9cb700b5fd6b631ef736dc8225b4f0a2cdd396e04ba49c925d9291030e3090c712c1346b79f4e10949503dd2f5dfc18a5c68fac509cfec10d9f941b8c65bcc31713b4623a495920666bee59a380c42653e98dc2fd6b326488bd8d15fac606c0438e15cc2e0aa6214f078a452fc6530ff54c17c10088338aa9e34a0e8f344871e438259f5a7324108e6f3fc93046cf41c5727763576bdc707503523def38a623dd74acadc944df607cd672f8fdd169e5ec0dea8a8d18d4159c9dae93aeae14ea3fedd9f5dcdf49511754d19c4321b9215c331aa49f045185ded1726439a031894ff3fa9e91969361cd802c9331ac1c142f770b8cca9865a08acf365f3350d8bab2416ab123ab6bc11d8d27a7645557d51516f4bd10d34b05e833022017e346eda22a401d0eeacfd1930a8693de937a69966480a12385f76e5725cb1f208c74c8113545b5a7cdba42396a8ebce110f2bff120049c4b7da9e1bbe7805781ac86abe02920eb82b19431824b1289c06e152087cb40399b3d9475c242c3ad1401283a53995b33d5a54b403ccac773e630c3d6ae18eb6d9d6694347693f8ca45f81dc46a75b200408475c18626ec67211ac29c475664842a0acee322013f50ea2b3a8c1745f00d09eabd629c9792799a6cf64b2974a659e1e17ce000a378b8f9b0f882eb483b12608ab0e033aa15694310d6df5744f4ea77a7aa63940663bd81dac6871dfc4c2622fa34116c7c850ddeb0dbd2cd0de80abbfc1d28be02642aa9984686b0aadac359c942a0f6fe1745507eb0ba73180e4c52f911f04274cb10c3709ce50c71290a9647b4d2bb0c08ccc164c44df7627fca7e505526b2ba55cae7fc78a1844b3952c658b3d2a1f8b7c4ebfc1dbfd8ba4e41b2a11180055eb097ec3d516010f7bdf86d1cedf00f3fdd9aee9465010cea187a4932ab275b1a75fc48460d8f4102b94344e2b460000000000000000000000000000000000000000000000000000000000000000000000000000000000000000000000000000000000000000000000000000000023e79282a481f86e488716eb1f5c42f971ceac84fd539212c2766cc7c20e5c811f2326d6b8529a04740019150cb9285fe8792414b436834d0a2aec68088489bc0000000000000000000000000000000000000000000000000000000000000000000000000000000000000000000000000000000000000000000000000000000014004ffafd8583ad3558c0e736c7a3776e99431b45452088680f2a5e95a078d4160f978b8f949a71a7f774b13916d933f38dbf494b61cd412a74e7ccd1e2bf7f010ee850f471c235f1d46a126a5847e0adbe6ef5360d880e4611ca002924c1d4234d627baa89f7e2cb4c9f42e5a7fc326fc70fa2bb3bc907e2a63808b9fc453a1cc7b36080690bd935a0d3d6b25a79501e7c937b9d33e06b40902907a1ee76451daa4ccbd5495be6c27ebe5161145a83f935e386e3dbb777af538b4d68cdda482af879535e8753c9879d5eafe7695672f6f8c2995cc7a8addb80e5935d467732179816be742972aaaa60e10a98a0850883c2774ab667441dc02647390350525c03b0aba7bc6816e02b0e6eb14204406ac02b78ee18cfed051493271a7c6c56981f442ded6d1bb59da82777fd28dfc516079060ea9b486a84ba30cb6be1014f522c31644f93f7196d27bd15b3b427be61ecb3a694807109ed48edbafd9b4fae6c3018524a0667fb901767d17f0e9b09af3a1fe4f562da47b8c19e332289d6e5941d58cb5e444c751f2b0ec049debee3f76ccaebbee5af39c4d6235e8493d1a67817ba1d2a7f71e51e10c13aa3031bf5a72c7f5a542e6658148a1c97a4fa023f6d0df720d830d33628dcd38f7b144110982a05a745b5593399e206b5f2c10f6d9928151e1df4d7275cb2c56432e980b2482da196db6b73fbeb50eded01bf3b6e742413e49f4f7c47748a6cf9bbd76e35451b7ac74872d2c64eed4317f014c8c0bd051fcf270a424720d3a5b40944ab7593032b3e5b128ca8d396defd2b54c786ae1cc3f52f1af1ba5643b66af4249f47aa3bd9b1db3d666b567c1a6090adf3cde010efe0467b33b1011a6027e84d0afc1062967cf612b6c9b4e54311c7f1c49c662b7951593a285fac2bab7ae8b8296000edf5c3214c8643b15a7a99630917925e2d4833bf38791dbe7590498779c36162a6f4d2514c8ee547c614e4d15a82dc01131f6aa05dc6d9bec6bd5164268c4e0079d42a431ba26d26551f993773b1f4f50b397815ca616a14e0a908e40bd46e7b80f46749bcd77b47ca0ffb8cf5e23a8e', 'transcript_type': 'EVM'}\n"
     ]
    }
   ],
   "source": [
    "# GENERATE A PROOF\n",
    "\n",
    "\n",
    "proof_path = os.path.join(\"test.pf\")\n",
    "\n",
    "res = ezkl.prove(\n",
    "    witness_path,\n",
    "    compiled_model_path,\n",
    "    pk_path,\n",
    "    proof_path,\n",
    "    \"single\",\n",
    ")\n",
    "\n",
    "print(res)\n",
    "assert os.path.isfile(proof_path)"
   ]
  },
  {
   "cell_type": "code",
   "execution_count": 44,
   "metadata": {},
   "outputs": [
    {
     "name": "stdout",
     "output_type": "stream",
     "text": [
      "verified\n"
     ]
    }
   ],
   "source": [
    "# VERIFY IT\n",
    "\n",
    "res = ezkl.verify(\n",
    "    proof_path,\n",
    "    settings_path,\n",
    "    vk_path,\n",
    ")\n",
    "\n",
    "if res:\n",
    "    print(\"verified\")"
   ]
  }
 ],
 "metadata": {
  "kernelspec": {
   "display_name": "venv",
   "language": "python",
   "name": "python3"
  },
  "language_info": {
   "codemirror_mode": {
    "name": "ipython",
    "version": 3
   },
   "file_extension": ".py",
   "mimetype": "text/x-python",
   "name": "python",
   "nbconvert_exporter": "python",
   "pygments_lexer": "ipython3",
   "version": "3.9.19"
  }
 },
 "nbformat": 4,
 "nbformat_minor": 2
}
